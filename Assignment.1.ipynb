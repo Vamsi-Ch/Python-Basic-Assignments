{
 "cells": [
  {
   "cell_type": "markdown",
   "id": "c0f9e19b",
   "metadata": {},
   "source": [
    "# 1. In the below elements which of them are values or an expression? eg:- values can be integer or string and expressions will be mathematical operators.\n",
    "### ( *, 'hello', -87.8, -, /, +, 6 )\n"
   ]
  },
  {
   "cell_type": "code",
   "execution_count": null,
   "id": "857b1919",
   "metadata": {},
   "outputs": [],
   "source": [
    "\"\"\" Answer for the above questions\n",
    "\n",
    "*                  -> is an expression.\n",
    "\n",
    "'hello'            -> is an value(string), string means collection of characters.\n",
    "\n",
    "-87.8              -> is an value(integer)\n",
    "\n",
    "-                  -> is an expression(Subtraction)\n",
    "\n",
    "/                  -> is an expression(Division)\n",
    "\n",
    "+                  -> is an expression (Addition)\n",
    "\n",
    "6                  -> is an value(integer) \"\"\""
   ]
  },
  {
   "cell_type": "markdown",
   "id": "9abb437a",
   "metadata": {},
   "source": [
    "# 2. What is the difference between string and variable?"
   ]
  },
  {
   "cell_type": "markdown",
   "id": "aa06bdae",
   "metadata": {},
   "source": [
    "#### variable in python"
   ]
  },
  {
   "cell_type": "code",
   "execution_count": null,
   "id": "c7e24feb",
   "metadata": {},
   "outputs": [],
   "source": [
    "\"\"\"a,b,c,d = 10,20,30,40 here (a,b,c,d are called as variables)\n",
    "\n",
    "A variable is a location in memory used to store some data (value).\n",
    "\n",
    "They are given unique names to differentiate between different memory locations. \n",
    "\n",
    "The rules for writing a variable name is same as the rules for writing identifiers in Python."
   ]
  },
  {
   "cell_type": "markdown",
   "id": "fa5e8b71",
   "metadata": {},
   "source": [
    "#### string in python"
   ]
  },
  {
   "cell_type": "code",
   "execution_count": null,
   "id": "63c53245",
   "metadata": {},
   "outputs": [],
   "source": [
    "# String is sequence of Unicode characters.\n",
    "\n",
    "# We can use single quotes or double quotes to represent strings.\n",
    "\n",
    "# Multi-line strings can be denoted using triple quotes, ''' or \"\"\"."
   ]
  },
  {
   "cell_type": "markdown",
   "id": "a078b7b4",
   "metadata": {},
   "source": [
    "# 3. Describe three different data types."
   ]
  },
  {
   "cell_type": "code",
   "execution_count": null,
   "id": "3cbe82ca",
   "metadata": {},
   "outputs": [],
   "source": [
    "# 1. Numeric type    -> int, float, complex\n",
    "\n",
    "# 2. Text type       -> string\n",
    "\n",
    "# 3. Boolean type    -> True, False"
   ]
  },
  {
   "cell_type": "markdown",
   "id": "5a9b7c36",
   "metadata": {},
   "source": [
    "# 4. What is an expression made up of? What do all expressions do?"
   ]
  },
  {
   "cell_type": "code",
   "execution_count": null,
   "id": "19d6d2b6",
   "metadata": {},
   "outputs": [],
   "source": [
    "# An expression in Python is a combination of operators and operands. An example of expression can be : x = x + 10"
   ]
  },
  {
   "cell_type": "markdown",
   "id": "e09cfbcc",
   "metadata": {},
   "source": [
    "# 5. This assignment statements, like spam = 10. What is the difference between an expression and a statement?"
   ]
  },
  {
   "cell_type": "code",
   "execution_count": null,
   "id": "e3e130e4",
   "metadata": {},
   "outputs": [],
   "source": [
    "# Expressions can be assigned or used as operator, which will return something (value) as output.\n",
    "\n",
    "# while statements can only be declared, it won't give you any kind of output"
   ]
  },
  {
   "cell_type": "markdown",
   "id": "b366fd47",
   "metadata": {},
   "source": [
    "# 6. After running the following code, what does the variable bacon contain?\n",
    "### bacon = 22\n",
    "### bacon + 1\n"
   ]
  },
  {
   "cell_type": "code",
   "execution_count": null,
   "id": "076ebec9",
   "metadata": {},
   "outputs": [],
   "source": [
    "bacon = 22 # Assigning the value 22 to variable called 'bacon'\n",
    "\n",
    "bacon + 1  # incrementing bacon value by 1"
   ]
  },
  {
   "cell_type": "markdown",
   "id": "377af95b",
   "metadata": {},
   "source": [
    "# 7. What should the values of the following two terms be?\n",
    "### 'spam' + 'spamspam'\n",
    "### 'spam' * 3\n"
   ]
  },
  {
   "cell_type": "code",
   "execution_count": null,
   "id": "5aa946f6",
   "metadata": {},
   "outputs": [],
   "source": [
    "'spam'+'spamspam' # concatenation of two strings"
   ]
  },
  {
   "cell_type": "code",
   "execution_count": null,
   "id": "7f0331c6",
   "metadata": {},
   "outputs": [],
   "source": [
    "'spam'*3   # Multiplication of a given string"
   ]
  },
  {
   "cell_type": "markdown",
   "id": "8819e0b6",
   "metadata": {},
   "source": [
    "# 8. Why is eggs a valid variable name while 100 is invalid?"
   ]
  },
  {
   "cell_type": "code",
   "execution_count": null,
   "id": "803c9305",
   "metadata": {},
   "outputs": [],
   "source": [
    "# eggs is valid variable name\n",
    "\n",
    "# 100 is invalid variable name, variables can't start with int value\n",
    "\n",
    "\"\"\" we can use any kind of unicode characters to define a variable, such as (a to z), (A to Z),( _ 'underscore'), (0 to 9).\n",
    "the variable name can't start with integer value, variable name can't be reserved words \"\"\""
   ]
  },
  {
   "cell_type": "markdown",
   "id": "a00ca2e1",
   "metadata": {},
   "source": [
    "# 9. What three functions can be used to get the integer, floating-point number, or string version of a value?"
   ]
  },
  {
   "cell_type": "code",
   "execution_count": null,
   "id": "9ce23ac8",
   "metadata": {},
   "outputs": [],
   "source": [
    "\"\"\"\n",
    "integer                  -> int()\n",
    "\n",
    "floating-point number    -> float()\n",
    "\n",
    "string                   -> str()\n",
    "\n",
    "\"\"\""
   ]
  },
  {
   "cell_type": "markdown",
   "id": "8099e420",
   "metadata": {},
   "source": [
    "# 10. Why does this expression cause an error? How can you fix it?\n",
    "### 'I have eaten ' + 99 + ' burritos.'\n"
   ]
  },
  {
   "cell_type": "code",
   "execution_count": 8,
   "id": "8802b57e",
   "metadata": {},
   "outputs": [
    {
     "ename": "TypeError",
     "evalue": "can only concatenate str (not \"int\") to str",
     "output_type": "error",
     "traceback": [
      "\u001b[1;31m---------------------------------------------------------------------------\u001b[0m",
      "\u001b[1;31mTypeError\u001b[0m                                 Traceback (most recent call last)",
      "\u001b[1;32m~\\AppData\\Local\\Temp/ipykernel_46348/388933125.py\u001b[0m in \u001b[0;36m<module>\u001b[1;34m\u001b[0m\n\u001b[1;32m----> 1\u001b[1;33m \u001b[1;34m'I have eaten '\u001b[0m \u001b[1;33m+\u001b[0m \u001b[1;36m99\u001b[0m \u001b[1;33m+\u001b[0m \u001b[1;34m' burritos.'\u001b[0m \u001b[1;31m# we will get error here, because we can't concatenate string with int value\u001b[0m\u001b[1;33m\u001b[0m\u001b[1;33m\u001b[0m\u001b[0m\n\u001b[0m",
      "\u001b[1;31mTypeError\u001b[0m: can only concatenate str (not \"int\") to str"
     ]
    }
   ],
   "source": [
    "'I have eaten ' + 99 + ' burritos.' # we will get error here, because we can't concatenate string with int value"
   ]
  },
  {
   "cell_type": "code",
   "execution_count": 12,
   "id": "7c4bf3f0",
   "metadata": {},
   "outputs": [
    {
     "data": {
      "text/plain": [
       "'I have eaten 99 burritos.'"
      ]
     },
     "execution_count": 12,
     "metadata": {},
     "output_type": "execute_result"
    }
   ],
   "source": [
    "# we can fix above error by keeping int value inbetween quotes, which will make them as a string\n",
    "'I have eaten ' + '99' + ' burritos.' "
   ]
  },
  {
   "cell_type": "code",
   "execution_count": 13,
   "id": "3bd40577",
   "metadata": {},
   "outputs": [
    {
     "data": {
      "text/plain": [
       "'I have eaten 99 burritos.'"
      ]
     },
     "execution_count": 13,
     "metadata": {},
     "output_type": "execute_result"
    }
   ],
   "source": [
    "# we can use type conversion as well\n",
    "'I have eaten ' + str(99) + ' burritos.' "
   ]
  },
  {
   "cell_type": "code",
   "execution_count": null,
   "id": "0eaec83b",
   "metadata": {},
   "outputs": [],
   "source": []
  },
  {
   "cell_type": "code",
   "execution_count": null,
   "id": "3a568c42",
   "metadata": {},
   "outputs": [],
   "source": []
  }
 ],
 "metadata": {
  "kernelspec": {
   "display_name": "Python 3 (ipykernel)",
   "language": "python",
   "name": "python3"
  },
  "language_info": {
   "codemirror_mode": {
    "name": "ipython",
    "version": 3
   },
   "file_extension": ".py",
   "mimetype": "text/x-python",
   "name": "python",
   "nbconvert_exporter": "python",
   "pygments_lexer": "ipython3",
   "version": "3.9.7"
  }
 },
 "nbformat": 4,
 "nbformat_minor": 5
}
