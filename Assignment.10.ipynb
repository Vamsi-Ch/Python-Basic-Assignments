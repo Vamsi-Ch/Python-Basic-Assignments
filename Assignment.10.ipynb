{
 "cells": [
  {
   "cell_type": "markdown",
   "id": "d4513d64",
   "metadata": {},
   "source": [
    "# 1. How do you distinguish between shutil.copy() and shutil.copytree()?"
   ]
  },
  {
   "cell_type": "code",
   "execution_count": null,
   "id": "65e080f0",
   "metadata": {},
   "outputs": [],
   "source": [
    "# shutil.copytree() will copy entire folder.\n",
    "# shutil.copy() will copy only single folder."
   ]
  },
  {
   "cell_type": "markdown",
   "id": "e4966544",
   "metadata": {},
   "source": [
    "# 2. What function is used to rename files??"
   ]
  },
  {
   "cell_type": "code",
   "execution_count": null,
   "id": "bf052699",
   "metadata": {},
   "outputs": [],
   "source": [
    "# The shutil.move() function is used for renaming files, as well as moving them."
   ]
  },
  {
   "cell_type": "markdown",
   "id": "1deb2a76",
   "metadata": {},
   "source": [
    "# 3. What is the difference between the delete functions in the send2trash and shutil modules?"
   ]
  },
  {
   "cell_type": "code",
   "execution_count": null,
   "id": "6a1958ac",
   "metadata": {},
   "outputs": [],
   "source": [
    "# send2trash will send files to recycle bin.\n",
    "# shutil module deletes file permanantly."
   ]
  },
  {
   "cell_type": "markdown",
   "id": "b3576851",
   "metadata": {},
   "source": [
    "# 4.ZipFile objects have a close() method just like File objects’ close() method. What ZipFile method is equivalent to File objects’ open() method?"
   ]
  },
  {
   "cell_type": "code",
   "execution_count": null,
   "id": "abe663dd",
   "metadata": {},
   "outputs": [],
   "source": [
    "# The zipfile.ZipFile() function is equivalent to the open() function.\n",
    "# To open or write to a zipfile we use 'w' as second argument similar to file objects open()."
   ]
  },
  {
   "cell_type": "markdown",
   "id": "4dd6e6d1",
   "metadata": {},
   "source": [
    "# 5. Create a programme that searches a folder tree for files with a certain file extension (such as .pdf or .jpg). Copy these files from whatever location they are in to a new folder."
   ]
  },
  {
   "cell_type": "code",
   "execution_count": 11,
   "id": "935db93e",
   "metadata": {},
   "outputs": [],
   "source": [
    "#                            ...Skipping the Answer...\n",
    "\n",
    "#                            ...The End..."
   ]
  },
  {
   "cell_type": "code",
   "execution_count": null,
   "id": "89dbf566",
   "metadata": {},
   "outputs": [],
   "source": []
  }
 ],
 "metadata": {
  "kernelspec": {
   "display_name": "Python 3 (ipykernel)",
   "language": "python",
   "name": "python3"
  },
  "language_info": {
   "codemirror_mode": {
    "name": "ipython",
    "version": 3
   },
   "file_extension": ".py",
   "mimetype": "text/x-python",
   "name": "python",
   "nbconvert_exporter": "python",
   "pygments_lexer": "ipython3",
   "version": "3.9.7"
  }
 },
 "nbformat": 4,
 "nbformat_minor": 5
}
