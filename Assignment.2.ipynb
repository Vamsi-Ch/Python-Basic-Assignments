{
 "cells": [
  {
   "cell_type": "markdown",
   "id": "2774ab3c",
   "metadata": {},
   "source": [
    "# 1.What are the two values of the Boolean data type? How do you write them?"
   ]
  },
  {
   "cell_type": "code",
   "execution_count": null,
   "id": "603d84ee",
   "metadata": {},
   "outputs": [],
   "source": [
    "True, False"
   ]
  },
  {
   "cell_type": "markdown",
   "id": "93930623",
   "metadata": {},
   "source": [
    "# 2. What are the three different types of Boolean operators?"
   ]
  },
  {
   "cell_type": "code",
   "execution_count": null,
   "id": "c0f736c0",
   "metadata": {},
   "outputs": [],
   "source": [
    "#  and   -> &&\n",
    "\n",
    "#  or    -> ||\n",
    "\n",
    "#  not   -> !"
   ]
  },
  {
   "cell_type": "markdown",
   "id": "2fc3707c",
   "metadata": {},
   "source": [
    "# 3. Make a list of each Boolean operator&#39;s truth tables (i.e. every possible combination of Boolean,values for the operator and what it evaluate )."
   ]
  },
  {
   "cell_type": "code",
   "execution_count": null,
   "id": "61e89dc1",
   "metadata": {},
   "outputs": [],
   "source": [
    "\"\"\" Here, '0' means False, '1' means True\n",
    "\n",
    "Truth Table for AND\n",
    "0  0 -> 0\n",
    "0  1 -> 0\n",
    "1  0 -> 0\n",
    "1  1 -> 1 \n",
    "\n",
    "Truth Table for OR\n",
    "0  0 -> 0\n",
    "0  1 -> 1\n",
    "1  0 -> 1\n",
    "1  1 -> 1\n",
    "\n",
    "Truth Table for NOT\n",
    "0  -> 1\n",
    "1  -> 0\n",
    "\n",
    "\"\"\""
   ]
  },
  {
   "cell_type": "markdown",
   "id": "eab2dc40",
   "metadata": {},
   "source": [
    "# 4. What are the values of the following expressions?\n",
    "#### (5 &gt; 4) and (3 == 5)\n",
    "#### not (5 &gt; 4)\n",
    "#### (5 &gt; 4) or (3 == 5)\n",
    "#### not ((5 &gt; 4) or (3 == 5))\n",
    "#### (True and True) and (True == False)\n",
    "#### (not False) or (not True)"
   ]
  },
  {
   "cell_type": "code",
   "execution_count": 38,
   "id": "c58e1208",
   "metadata": {},
   "outputs": [
    {
     "name": "stdout",
     "output_type": "stream",
     "text": [
      "False\n",
      "False\n",
      "True\n",
      "False\n",
      "False\n",
      "True\n"
     ]
    }
   ],
   "source": [
    "print((5>4) and (3==5))\n",
    "print(not(5>4))\n",
    "print((5>4) or (3==5))\n",
    "print(not((5>4) or (3==5)))\n",
    "print((True and True) and (True == False))\n",
    "print(not(False) or not(True))"
   ]
  },
  {
   "cell_type": "markdown",
   "id": "f02b5d4a",
   "metadata": {},
   "source": [
    "# 5. What are the six comparison operators?"
   ]
  },
  {
   "cell_type": "code",
   "execution_count": null,
   "id": "eaa66795",
   "metadata": {},
   "outputs": [],
   "source": [
    "#  Answer( ==, !=, <, >, <=,  >= )"
   ]
  },
  {
   "cell_type": "markdown",
   "id": "68a88fc4",
   "metadata": {},
   "source": [
    "# 6. How do you tell the difference between the equal to and assignment operators?Describe a condition and when you would use one."
   ]
  },
  {
   "cell_type": "code",
   "execution_count": 39,
   "id": "ed8bfd3b",
   "metadata": {},
   "outputs": [
    {
     "name": "stdout",
     "output_type": "stream",
     "text": [
      "False\n"
     ]
    }
   ],
   "source": [
    "#  == is the equal to operator that compares two values and evaluates to a Boolean.\n",
    "#  while '=' is the assignment operator that stores a value in a variable.\n",
    "\n",
    "if(1==2): # equal operator\n",
    "    print(\"True\")\n",
    "else:\n",
    "    print(\"False\")"
   ]
  },
  {
   "cell_type": "code",
   "execution_count": 40,
   "id": "276e1c9a",
   "metadata": {},
   "outputs": [
    {
     "name": "stdout",
     "output_type": "stream",
     "text": [
      "Value of c is :  10\n"
     ]
    }
   ],
   "source": [
    "# Assignment operator\n",
    "c = 10 # value '10' is assigned to a variable called 'c'\n",
    "print(\"Value of c is : \",c)"
   ]
  },
  {
   "cell_type": "markdown",
   "id": "150460dd",
   "metadata": {},
   "source": [
    "# 7. Identify the three blocks in this code:"
   ]
  },
  {
   "cell_type": "code",
   "execution_count": 41,
   "id": "c3e12e82",
   "metadata": {},
   "outputs": [
    {
     "name": "stdout",
     "output_type": "stream",
     "text": [
      "ham\n",
      "spam\n",
      "spam\n"
     ]
    }
   ],
   "source": [
    "# this is the given code\n",
    "spam = 0\n",
    "if spam == 10:    # Block 1\n",
    "    print(\"eggs\")\n",
    "if spam > 5:      # Block 2\n",
    "    print(\"bacon\") \n",
    "else:             # Block 3\n",
    "    print(\"ham\")\n",
    "    print(\"spam\")\n",
    "    print(\"spam\")"
   ]
  },
  {
   "cell_type": "markdown",
   "id": "8e04cb84",
   "metadata": {},
   "source": [
    "# 8. Write code that prints Hello if 1 is stored in spam, prints Howdy if 2 is stored in spam, and prints Greetings! if anything else is stored in spam."
   ]
  },
  {
   "cell_type": "code",
   "execution_count": 37,
   "id": "adb5e073",
   "metadata": {},
   "outputs": [
    {
     "name": "stdout",
     "output_type": "stream",
     "text": [
      "enter a value :5\n",
      "Greetings!\n"
     ]
    }
   ],
   "source": [
    "spam = int(input(\"enter a value :\"))\n",
    "if spam == 1:\n",
    "    print(\"Hello\")\n",
    "elif spam == 2:\n",
    "    print(\"Howdy\")\n",
    "else:\n",
    "    print(\"Greetings!\")"
   ]
  },
  {
   "cell_type": "markdown",
   "id": "5648287c",
   "metadata": {},
   "source": [
    "# 9.If your programme is stuck in an endless loop, what keys you’ll press?"
   ]
  },
  {
   "cell_type": "code",
   "execution_count": null,
   "id": "719fdb88",
   "metadata": {},
   "outputs": [],
   "source": [
    "\"\"\"\n",
    "ctrl + c, or interrupt kernel and restart it.\n",
    "\n",
    "\"\"\""
   ]
  },
  {
   "cell_type": "markdown",
   "id": "81f57e49",
   "metadata": {},
   "source": [
    "# 10. How can you tell the difference between break and continue?"
   ]
  },
  {
   "cell_type": "markdown",
   "id": "571c6896",
   "metadata": {},
   "source": [
    "#### break"
   ]
  },
  {
   "cell_type": "code",
   "execution_count": 46,
   "id": "c2d7cbc2",
   "metadata": {},
   "outputs": [
    {
     "name": "stdout",
     "output_type": "stream",
     "text": [
      "0 1 2 3 4 5 ended\n"
     ]
    }
   ],
   "source": [
    "# The purpose of the break statement is to break out of a loop early\n",
    "for i in range(8):\n",
    "    if i == 6:\n",
    "        break\n",
    "    print(i, end = ' ')\n",
    "print(\"ended\")"
   ]
  },
  {
   "cell_type": "markdown",
   "id": "f84eef62",
   "metadata": {},
   "source": [
    "#### continue"
   ]
  },
  {
   "cell_type": "code",
   "execution_count": 47,
   "id": "265de00a",
   "metadata": {},
   "outputs": [
    {
     "name": "stdout",
     "output_type": "stream",
     "text": [
      "0 1 2 3 4 5 7 ended\n"
     ]
    }
   ],
   "source": [
    "# The continue keyword is used to end the current iteration in a loop, and continues to the next iteration.\n",
    "for i in range(8):\n",
    "    if i == 6:\n",
    "        continue\n",
    "    print(i, end = ' ')\n",
    "print(\"ended\")"
   ]
  },
  {
   "cell_type": "markdown",
   "id": "171f426f",
   "metadata": {},
   "source": [
    "# 11. In a for loop, what is the difference between range(10), range(0, 10), and range(0, 10, 1)?"
   ]
  },
  {
   "cell_type": "code",
   "execution_count": 52,
   "id": "3933add6",
   "metadata": {},
   "outputs": [
    {
     "name": "stdout",
     "output_type": "stream",
     "text": [
      "0 1 2 3 4 5 6 7 8 9 "
     ]
    }
   ],
   "source": [
    "# The range(10) call ranges from 0 up to 10 (excluding last element), it means (0 to 9), by default starting point is '0' \n",
    "\n",
    "for i in range(10):\n",
    "    print(i, end = ' ')"
   ]
  },
  {
   "cell_type": "code",
   "execution_count": 1,
   "id": "86489aaa",
   "metadata": {},
   "outputs": [
    {
     "name": "stdout",
     "output_type": "stream",
     "text": [
      "0 1 2 3 4 5 6 7 8 9 "
     ]
    }
   ],
   "source": [
    "# range(0, 10) here we are defining starting pointing as 0 , the loop to start at 0 to (10-1) 9 \n",
    "\n",
    "for i in range(0,10):\n",
    "    print(i, end = ' ')"
   ]
  },
  {
   "cell_type": "code",
   "execution_count": 55,
   "id": "42b7710a",
   "metadata": {},
   "outputs": [
    {
     "name": "stdout",
     "output_type": "stream",
     "text": [
      "0 1 2 3 4 5 6 7 8 9 "
     ]
    }
   ],
   "source": [
    "# range(0, 10, 1) here we are taking step size as 1, by default step size also 1\n",
    "# the loop iterate the value by 1 on each iteration.\n",
    "\n",
    "for i in range(0,10,1):\n",
    "    print(i, end = ' ')"
   ]
  },
  {
   "cell_type": "markdown",
   "id": "34e369d8",
   "metadata": {},
   "source": [
    "# 12. Write a short program that prints the numbers 1 to 10 using a for loop. Then write an equivalent program that prints the numbers 1 to 10 using a while loop."
   ]
  },
  {
   "cell_type": "markdown",
   "id": "ed2bf00e",
   "metadata": {},
   "source": [
    "#### *for loop"
   ]
  },
  {
   "cell_type": "code",
   "execution_count": 60,
   "id": "e7c1f14a",
   "metadata": {},
   "outputs": [
    {
     "name": "stdout",
     "output_type": "stream",
     "text": [
      "1 2 3 4 5 6 7 8 9 10 "
     ]
    }
   ],
   "source": [
    "# we taking starting point value as 1\n",
    "#  (11-1 = 10) if we want to print 10 in the output we should take 1 extra element.\n",
    "\n",
    "for i in range(1,11):\n",
    "    print(i, end = ' ')"
   ]
  },
  {
   "cell_type": "markdown",
   "id": "aaaec20b",
   "metadata": {},
   "source": [
    "#### *while loop"
   ]
  },
  {
   "cell_type": "code",
   "execution_count": 1,
   "id": "f323f05f",
   "metadata": {},
   "outputs": [
    {
     "name": "stdout",
     "output_type": "stream",
     "text": [
      "1 2 3 4 5 6 7 8 9 10 "
     ]
    }
   ],
   "source": [
    "i = 1\n",
    "while i <= 10:\n",
    "    print(i, end = ' ')\n",
    "    i += 1"
   ]
  },
  {
   "cell_type": "markdown",
   "id": "95e85687",
   "metadata": {},
   "source": [
    "# 13. If you had a function named bacon() inside a module named spam, how would you call it after importing spam?"
   ]
  },
  {
   "cell_type": "code",
   "execution_count": 73,
   "id": "6253607c",
   "metadata": {},
   "outputs": [],
   "source": [
    "xyz = \"Hello Geeks\"\n",
    "def bacon(spam):\n",
    "    return spam  # we can't write print func here, why because print will return None type of data."
   ]
  },
  {
   "cell_type": "code",
   "execution_count": 74,
   "id": "e35a97cd",
   "metadata": {},
   "outputs": [
    {
     "data": {
      "text/plain": [
       "'Hello Geeks'"
      ]
     },
     "execution_count": 74,
     "metadata": {},
     "output_type": "execute_result"
    }
   ],
   "source": [
    "# calling the function\n",
    "\n",
    "bacon(xyz)"
   ]
  },
  {
   "cell_type": "code",
   "execution_count": 76,
   "id": "3bba6b8f",
   "metadata": {},
   "outputs": [
    {
     "data": {
      "text/plain": [
       "str"
      ]
     },
     "execution_count": 76,
     "metadata": {},
     "output_type": "execute_result"
    }
   ],
   "source": [
    "type(bacon(xyz))"
   ]
  },
  {
   "cell_type": "code",
   "execution_count": null,
   "id": "3315f98b",
   "metadata": {},
   "outputs": [],
   "source": []
  }
 ],
 "metadata": {
  "kernelspec": {
   "display_name": "Python 3 (ipykernel)",
   "language": "python",
   "name": "python3"
  },
  "language_info": {
   "codemirror_mode": {
    "name": "ipython",
    "version": 3
   },
   "file_extension": ".py",
   "mimetype": "text/x-python",
   "name": "python",
   "nbconvert_exporter": "python",
   "pygments_lexer": "ipython3",
   "version": "3.9.7"
  }
 },
 "nbformat": 4,
 "nbformat_minor": 5
}
