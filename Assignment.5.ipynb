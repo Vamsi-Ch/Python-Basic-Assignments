{
 "cells": [
  {
   "cell_type": "markdown",
   "id": "7f935dd0",
   "metadata": {},
   "source": [
    "# 1. What does an empty dictionary&#39;s code look like?"
   ]
  },
  {
   "cell_type": "code",
   "execution_count": null,
   "id": "595ce0e0",
   "metadata": {},
   "outputs": [],
   "source": [
    "_dict = {} "
   ]
  },
  {
   "cell_type": "markdown",
   "id": "b1365231",
   "metadata": {},
   "source": [
    "# 2. What is the value of a dictionary value with the key &#39;foo&#39; and the value 42?"
   ]
  },
  {
   "cell_type": "code",
   "execution_count": null,
   "id": "202a03f0",
   "metadata": {},
   "outputs": [],
   "source": [
    "d = {'foo':42}"
   ]
  },
  {
   "cell_type": "code",
   "execution_count": 14,
   "id": "1efa0f76",
   "metadata": {},
   "outputs": [
    {
     "data": {
      "text/plain": [
       "{'foo': 42}"
      ]
     },
     "execution_count": 14,
     "metadata": {},
     "output_type": "execute_result"
    }
   ],
   "source": [
    "d"
   ]
  },
  {
   "cell_type": "markdown",
   "id": "016c986b",
   "metadata": {},
   "source": [
    "# 3. What is the most significant distinction between a dictionary and a list?"
   ]
  },
  {
   "cell_type": "code",
   "execution_count": null,
   "id": "d1133142",
   "metadata": {},
   "outputs": [],
   "source": [
    "\"\"\"\n",
    "# Dictionary has a key, value pair as one entity.\n",
    "# list is contained of idividual elements.\n",
    "\n",
    "\"\"\""
   ]
  },
  {
   "cell_type": "markdown",
   "id": "6c452a94",
   "metadata": {},
   "source": [
    "# 4. What happens if you try to access spam[&#39;foo&#39;] if spam is {&#39;bar&#39;: 100}?"
   ]
  },
  {
   "cell_type": "code",
   "execution_count": 15,
   "id": "b7edf8b0",
   "metadata": {},
   "outputs": [
    {
     "ename": "KeyError",
     "evalue": "'foo'",
     "output_type": "error",
     "traceback": [
      "\u001b[1;31m---------------------------------------------------------------------------\u001b[0m",
      "\u001b[1;31mKeyError\u001b[0m                                  Traceback (most recent call last)",
      "\u001b[1;32m~\\AppData\\Local\\Temp/ipykernel_52772/4072673393.py\u001b[0m in \u001b[0;36m<module>\u001b[1;34m\u001b[0m\n\u001b[0;32m      1\u001b[0m \u001b[0mspam\u001b[0m \u001b[1;33m=\u001b[0m \u001b[1;33m{\u001b[0m\u001b[1;34m'bar'\u001b[0m\u001b[1;33m:\u001b[0m\u001b[1;36m100\u001b[0m\u001b[1;33m}\u001b[0m\u001b[1;33m\u001b[0m\u001b[1;33m\u001b[0m\u001b[0m\n\u001b[0;32m      2\u001b[0m \u001b[1;33m\u001b[0m\u001b[0m\n\u001b[1;32m----> 3\u001b[1;33m \u001b[0mspam\u001b[0m\u001b[1;33m[\u001b[0m\u001b[1;34m'foo'\u001b[0m\u001b[1;33m]\u001b[0m  \u001b[1;31m# key error\u001b[0m\u001b[1;33m\u001b[0m\u001b[1;33m\u001b[0m\u001b[0m\n\u001b[0m",
      "\u001b[1;31mKeyError\u001b[0m: 'foo'"
     ]
    }
   ],
   "source": [
    "spam = {'bar':100}\n",
    "\n",
    "spam['foo']  # key error"
   ]
  },
  {
   "cell_type": "markdown",
   "id": "a6f6fcd0",
   "metadata": {},
   "source": [
    "# 5. If a dictionary is stored in spam, what is the difference between the expressions &#39;cat&#39; in spam and &#39;cat&#39; in spam.keys()?"
   ]
  },
  {
   "cell_type": "code",
   "execution_count": null,
   "id": "a8afc844",
   "metadata": {},
   "outputs": [],
   "source": [
    "\"\"\"\n",
    "# this function checks wheather 'cat' is present in dictionary as a key.\n",
    "# spam.keys(), return lists of the keys\n",
    "\n",
    "\"\"\""
   ]
  },
  {
   "cell_type": "markdown",
   "id": "643aca55",
   "metadata": {},
   "source": [
    "# 6. If a dictionary is stored in spam, what is the difference between the expressions &#39;cat&#39; in spam and &#39;cat&#39; in spam.values()?"
   ]
  },
  {
   "cell_type": "code",
   "execution_count": null,
   "id": "fb5e8c51",
   "metadata": {},
   "outputs": [],
   "source": [
    "\"\"\"\n",
    "# this function checks wheather 'cat' is present in dictonary as a value.\n",
    "# spam.values(), return lists of the values. \n",
    "\n",
    "\"\"\""
   ]
  },
  {
   "cell_type": "markdown",
   "id": "d0e297a2",
   "metadata": {},
   "source": [
    "# 7. What is a shortcut for the following code?\n",
    "#### if &#39;color&#39; not in spam1:\n",
    "#### spam[&#39;color&#39;] = &#39;black&#39;"
   ]
  },
  {
   "cell_type": "code",
   "execution_count": null,
   "id": "c046c10e",
   "metadata": {
    "scrolled": true
   },
   "outputs": [],
   "source": [
    "spam1 = {}\n",
    "spam1.setdefault('color', 'black')"
   ]
  },
  {
   "cell_type": "code",
   "execution_count": 13,
   "id": "dcd2049d",
   "metadata": {},
   "outputs": [
    {
     "data": {
      "text/plain": [
       "{'color': 'black'}"
      ]
     },
     "execution_count": 13,
     "metadata": {},
     "output_type": "execute_result"
    }
   ],
   "source": [
    "spam1"
   ]
  },
  {
   "cell_type": "markdown",
   "id": "023c53b3",
   "metadata": {},
   "source": [
    "# 8. How do you &quot;pretty print&quot; dictionary values using which module and function?"
   ]
  },
  {
   "cell_type": "code",
   "execution_count": null,
   "id": "5f3041a9",
   "metadata": {
    "scrolled": true
   },
   "outputs": [],
   "source": [
    "module = pprint\n",
    "\n",
    "function = pprint.pprint()"
   ]
  },
  {
   "cell_type": "code",
   "execution_count": null,
   "id": "8fb0edec",
   "metadata": {},
   "outputs": [],
   "source": []
  }
 ],
 "metadata": {
  "kernelspec": {
   "display_name": "Python 3 (ipykernel)",
   "language": "python",
   "name": "python3"
  },
  "language_info": {
   "codemirror_mode": {
    "name": "ipython",
    "version": 3
   },
   "file_extension": ".py",
   "mimetype": "text/x-python",
   "name": "python",
   "nbconvert_exporter": "python",
   "pygments_lexer": "ipython3",
   "version": "3.9.7"
  }
 },
 "nbformat": 4,
 "nbformat_minor": 5
}
