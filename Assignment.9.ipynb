{
 "cells": [
  {
   "cell_type": "markdown",
   "id": "89ae0eeb",
   "metadata": {},
   "source": [
    "# 1. To what does a relative path refer?"
   ]
  },
  {
   "cell_type": "code",
   "execution_count": 6,
   "id": "6a1e6a8c",
   "metadata": {},
   "outputs": [
    {
     "data": {
      "text/plain": [
       "'C:\\\\Users\\\\VAMSI\\\\FSDS\\\\Python Basics Assignments'"
      ]
     },
     "execution_count": 6,
     "metadata": {},
     "output_type": "execute_result"
    }
   ],
   "source": [
    "# relative path shows current working directory path\n",
    "\n",
    "import os\n",
    "os.getcwd()"
   ]
  },
  {
   "cell_type": "markdown",
   "id": "170b53d1",
   "metadata": {},
   "source": [
    "# 2. What does an absolute path start with your operating system?"
   ]
  },
  {
   "cell_type": "code",
   "execution_count": 7,
   "id": "d9c83ff0",
   "metadata": {},
   "outputs": [],
   "source": [
    "# path directory name and exact location \n",
    "# absolute path always starts with rootdi directory"
   ]
  },
  {
   "cell_type": "code",
   "execution_count": 8,
   "id": "4589fa20",
   "metadata": {},
   "outputs": [],
   "source": [
    "import os\n",
    "path = os.getcwd()"
   ]
  },
  {
   "cell_type": "code",
   "execution_count": 9,
   "id": "646a0d7c",
   "metadata": {},
   "outputs": [
    {
     "data": {
      "text/plain": [
       "'C:\\\\Users\\\\VAMSI\\\\FSDS\\\\Python Basics Assignments'"
      ]
     },
     "execution_count": 9,
     "metadata": {},
     "output_type": "execute_result"
    }
   ],
   "source": [
    "os.path.abspath(path)"
   ]
  },
  {
   "cell_type": "markdown",
   "id": "39295435",
   "metadata": {},
   "source": [
    "# 3. What do the functions os.getcwd() and os.chdir() do?"
   ]
  },
  {
   "cell_type": "code",
   "execution_count": 10,
   "id": "19ce51aa",
   "metadata": {},
   "outputs": [],
   "source": [
    "# os.chdir() performs change directory\n",
    "# os.getcwd() gives current working directory"
   ]
  },
  {
   "cell_type": "markdown",
   "id": "8d8950bc",
   "metadata": {},
   "source": [
    "# 4. What are the . and .. folders?"
   ]
  },
  {
   "cell_type": "code",
   "execution_count": 11,
   "id": "d1edf922",
   "metadata": {},
   "outputs": [],
   "source": [
    "# (.) = current folder\n",
    "# (..)= parent folder"
   ]
  },
  {
   "cell_type": "markdown",
   "id": "e9bb27e6",
   "metadata": {},
   "source": [
    "# 5. In C:\\bacon\\eggs\\spam.txt, which part is the dir name, and which part is the base name?"
   ]
  },
  {
   "cell_type": "code",
   "execution_count": 12,
   "id": "6ca4a8d3",
   "metadata": {},
   "outputs": [],
   "source": [
    "# C:\\bacon\\eggs is the dir name\n",
    "# spam.txt is the base name."
   ]
  },
  {
   "cell_type": "markdown",
   "id": "cf8293a9",
   "metadata": {},
   "source": [
    "# 6. What are the three “mode” arguments that can be passed to the open() function?"
   ]
  },
  {
   "cell_type": "code",
   "execution_count": null,
   "id": "36cae56d",
   "metadata": {},
   "outputs": [],
   "source": [
    "# r --> read mode\n",
    "# w --> write mode\n",
    "# a --> append mode"
   ]
  },
  {
   "cell_type": "markdown",
   "id": "96a6836c",
   "metadata": {},
   "source": [
    "# 7. What happens if an existing file is opened in write mode?"
   ]
  },
  {
   "cell_type": "code",
   "execution_count": 13,
   "id": "b8dfde9d",
   "metadata": {},
   "outputs": [],
   "source": [
    "# An existing file is erased and completely overwritten."
   ]
  },
  {
   "cell_type": "markdown",
   "id": "f0426e7f",
   "metadata": {},
   "source": [
    "# 8. How do you tell the difference between read() and readlines()?"
   ]
  },
  {
   "cell_type": "code",
   "execution_count": null,
   "id": "0046ccf1",
   "metadata": {},
   "outputs": [],
   "source": [
    "# read() --> it iterates over each character.\n",
    "# readlines() --> read only single line of the file."
   ]
  },
  {
   "cell_type": "markdown",
   "id": "6becb903",
   "metadata": {},
   "source": [
    "# 9. What data structure does a shelf value resemble?"
   ]
  },
  {
   "cell_type": "code",
   "execution_count": null,
   "id": "650a340c",
   "metadata": {},
   "outputs": [],
   "source": [
    "# shelf value is same as dict, which contains key and value pair."
   ]
  }
 ],
 "metadata": {
  "kernelspec": {
   "display_name": "Python 3 (ipykernel)",
   "language": "python",
   "name": "python3"
  },
  "language_info": {
   "codemirror_mode": {
    "name": "ipython",
    "version": 3
   },
   "file_extension": ".py",
   "mimetype": "text/x-python",
   "name": "python",
   "nbconvert_exporter": "python",
   "pygments_lexer": "ipython3",
   "version": "3.9.7"
  }
 },
 "nbformat": 4,
 "nbformat_minor": 5
}
