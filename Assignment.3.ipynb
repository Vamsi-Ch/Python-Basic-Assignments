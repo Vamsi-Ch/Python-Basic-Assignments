{
 "cells": [
  {
   "cell_type": "markdown",
   "id": "b19a496b",
   "metadata": {},
   "source": [
    "# 1. Why are functions advantageous to have in your programs?"
   ]
  },
  {
   "cell_type": "code",
   "execution_count": null,
   "id": "8c62a0fb",
   "metadata": {},
   "outputs": [],
   "source": [
    "\"\"\"\n",
    "# functions will make our code very shorter because of it's reusuability, easy to read and update.\n",
    "# we can simply describe the function as \"write once, use n number of times\" we want.\n",
    "# functions won't consume lot of memory and space.\n",
    "\"\"\""
   ]
  },
  {
   "cell_type": "markdown",
   "id": "87055d4d",
   "metadata": {},
   "source": [
    "# 2. When does the code in a function run: when it&#39;s specified or when it&#39;s called?"
   ]
  },
  {
   "cell_type": "code",
   "execution_count": null,
   "id": "3dc0e0db",
   "metadata": {},
   "outputs": [],
   "source": [
    "\"\"\"\n",
    "# The code in a function executes when the function is called, not when the function is defined.\n",
    "# a function should start with keyword called 'def'.\n",
    "# it must contain parentheses(), and should end with colon(:).\n",
    "# in the parentheses we can pass the argments.\n",
    "# return statement must be written.\n",
    "\n",
    "\"\"\""
   ]
  },
  {
   "cell_type": "markdown",
   "id": "43155ed8",
   "metadata": {},
   "source": [
    "# 3. What statement creates a function?"
   ]
  },
  {
   "cell_type": "code",
   "execution_count": null,
   "id": "d73de4e9",
   "metadata": {},
   "outputs": [],
   "source": [
    "def function_name(arguments):\n",
    "    return arguments"
   ]
  },
  {
   "cell_type": "markdown",
   "id": "dae1e099",
   "metadata": {},
   "source": [
    "# 4. What is the difference between a function and a function call?"
   ]
  },
  {
   "cell_type": "code",
   "execution_count": null,
   "id": "bd77d9e6",
   "metadata": {},
   "outputs": [],
   "source": [
    "\"\"\"\n",
    "# writing a set of code inside a function to perform specific tasks is called as defining a function.\n",
    "# function call means it executes the set of codes,which was written inside of a function. and gives the output accordingly.\n",
    "\n",
    "\"\"\""
   ]
  },
  {
   "cell_type": "markdown",
   "id": "c3b21c79",
   "metadata": {},
   "source": [
    "# 5. How many global scopes are there in a Python program? How many local scopes?"
   ]
  },
  {
   "cell_type": "code",
   "execution_count": null,
   "id": "e1021742",
   "metadata": {},
   "outputs": [],
   "source": [
    "\"\"\"\n",
    "# there is only one global scope per python program.\n",
    "# we can create 'n' number of local variables(scopes) as we want, and use them only inside a function.\n",
    "\"\"\""
   ]
  },
  {
   "cell_type": "markdown",
   "id": "eec9822a",
   "metadata": {},
   "source": [
    "# 6. What happens to variables in a local scope when the function call returns?"
   ]
  },
  {
   "cell_type": "code",
   "execution_count": null,
   "id": "739aba86",
   "metadata": {},
   "outputs": [],
   "source": [
    "\"\"\"\n",
    "# variable in a local space is confined to that space of function can only be used in that function.\n",
    "# therefore retains its value untill next time function is called.\n",
    "\n",
    "\"\"\""
   ]
  },
  {
   "cell_type": "markdown",
   "id": "ed86acc6",
   "metadata": {},
   "source": [
    "# 7. What is the concept of a return value? Is it possible to have a return value in an expression?"
   ]
  },
  {
   "cell_type": "code",
   "execution_count": null,
   "id": "34ce50d4",
   "metadata": {},
   "outputs": [],
   "source": [
    "\"\"\"\n",
    "# return is a statement in python, which gives us some result back to the caller accordingly.\n",
    "# yes it is possible to have a return value in an expression\n",
    "\n",
    "\"\"\""
   ]
  },
  {
   "cell_type": "markdown",
   "id": "3b39c26b",
   "metadata": {},
   "source": [
    "# 8. If a function does not have a return statement, what is the return value of a call to that function?"
   ]
  },
  {
   "cell_type": "code",
   "execution_count": null,
   "id": "617b7620",
   "metadata": {},
   "outputs": [],
   "source": [
    "\"\"\"\n",
    "# it doesnt return any particular value\n",
    "# we should not use print function, why because print gives None type of data as a result.\n",
    "\n",
    "\"\"\""
   ]
  },
  {
   "cell_type": "markdown",
   "id": "cf3b4afb",
   "metadata": {},
   "source": [
    "# 9. How do you make a function variable refer to the global variable?"
   ]
  },
  {
   "cell_type": "code",
   "execution_count": null,
   "id": "32f72d6c",
   "metadata": {},
   "outputs": [],
   "source": [
    "\"\"\"\n",
    "# Global variable is not connected to any particular function,\n",
    "  which means it is free to be called in any function and also be reused. \n",
    "\n",
    "# To refer a function variable to global variable we use global keyword to declare which variables are global\n",
    "\"\"\""
   ]
  },
  {
   "cell_type": "markdown",
   "id": "483a34dd",
   "metadata": {},
   "source": [
    "# 10. What is the data type of None?"
   ]
  },
  {
   "cell_type": "code",
   "execution_count": 7,
   "id": "28697c44",
   "metadata": {},
   "outputs": [
    {
     "data": {
      "text/plain": [
       "NoneType"
      ]
     },
     "execution_count": 7,
     "metadata": {},
     "output_type": "execute_result"
    }
   ],
   "source": [
    "# it is null neither Zero nor any other value\n",
    "type(None)"
   ]
  },
  {
   "cell_type": "markdown",
   "id": "50d2793b",
   "metadata": {},
   "source": [
    "# 11. What does the sentence import areallyourpetsnamederic do?"
   ]
  },
  {
   "cell_type": "code",
   "execution_count": null,
   "id": "6ed40c52",
   "metadata": {},
   "outputs": [],
   "source": [
    "# it will import areallyourpetnamederic module.\n",
    "import areallyourpetnamederic"
   ]
  },
  {
   "cell_type": "markdown",
   "id": "93dcc4ea",
   "metadata": {},
   "source": [
    "# 12. If you had a bacon() feature in a spam module, what would you call it after importing spam?"
   ]
  },
  {
   "cell_type": "code",
   "execution_count": 8,
   "id": "bf9bf440",
   "metadata": {},
   "outputs": [],
   "source": [
    "# spam.bacon()"
   ]
  },
  {
   "cell_type": "markdown",
   "id": "06749930",
   "metadata": {},
   "source": [
    "# 13. What can you do to save a programme from crashing if it encounters an error?"
   ]
  },
  {
   "cell_type": "code",
   "execution_count": 9,
   "id": "cb6acbdd",
   "metadata": {},
   "outputs": [],
   "source": [
    "# we can use try and catch for preventing crash."
   ]
  },
  {
   "cell_type": "markdown",
   "id": "64dadf60",
   "metadata": {},
   "source": [
    "# 14. What is the purpose of the try clause? What is the purpose of the except clause?"
   ]
  },
  {
   "cell_type": "code",
   "execution_count": null,
   "id": "cdc85fd8",
   "metadata": {},
   "outputs": [],
   "source": [
    "\"\"\"\n",
    "# The try block lets you test a block of code for errors, so that other part of the program won't be disturb.\n",
    "\n",
    "# The except block lets you handle the error.\n",
    "# it also used when you are trying a certain part of program but it fails so it is used as a response to exception.\n",
    "\n",
    "\"\"\""
   ]
  }
 ],
 "metadata": {
  "kernelspec": {
   "display_name": "Python 3 (ipykernel)",
   "language": "python",
   "name": "python3"
  },
  "language_info": {
   "codemirror_mode": {
    "name": "ipython",
    "version": 3
   },
   "file_extension": ".py",
   "mimetype": "text/x-python",
   "name": "python",
   "nbconvert_exporter": "python",
   "pygments_lexer": "ipython3",
   "version": "3.9.7"
  }
 },
 "nbformat": 4,
 "nbformat_minor": 5
}
