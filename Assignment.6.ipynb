{
 "cells": [
  {
   "cell_type": "markdown",
   "id": "98da7a46",
   "metadata": {},
   "source": [
    "# 1. What are escape characters, and how do you use them?"
   ]
  },
  {
   "cell_type": "code",
   "execution_count": null,
   "id": "a08e132c",
   "metadata": {},
   "outputs": [],
   "source": [
    "\"\"\"\n",
    "# An escape character is a backslash \\ followed by the character you want to insert like(\\n,\\t,\\r,\\\\,\\b).\n",
    "\n",
    "\"\"\""
   ]
  },
  {
   "cell_type": "code",
   "execution_count": 3,
   "id": "685110c9",
   "metadata": {},
   "outputs": [
    {
     "name": "stdout",
     "output_type": "stream",
     "text": [
      "Hello\n",
      "folks\n"
     ]
    }
   ],
   "source": [
    "# usage\n",
    "print(\"Hello\\nfolks\")"
   ]
  },
  {
   "cell_type": "code",
   "execution_count": 4,
   "id": "45a4d540",
   "metadata": {},
   "outputs": [
    {
     "name": "stdout",
     "output_type": "stream",
     "text": [
      "Hello\tfolks\n"
     ]
    }
   ],
   "source": [
    "print(\"Hello\\tfolks\")"
   ]
  },
  {
   "cell_type": "markdown",
   "id": "d9e564fd",
   "metadata": {},
   "source": [
    "# 2. What do the escape characters n and t stand for?"
   ]
  },
  {
   "cell_type": "code",
   "execution_count": null,
   "id": "8095a5d3",
   "metadata": {},
   "outputs": [],
   "source": [
    "\"\"\"\n",
    "\\n   -> new line\n",
    "\\t   -> tab\n",
    "\n",
    "\"\"\""
   ]
  },
  {
   "cell_type": "markdown",
   "id": "75416d40",
   "metadata": {},
   "source": [
    "# 3. What is the way to include backslash characters in a string?"
   ]
  },
  {
   "cell_type": "code",
   "execution_count": 5,
   "id": "481836b7",
   "metadata": {},
   "outputs": [
    {
     "name": "stdout",
     "output_type": "stream",
     "text": [
      "This will insert one \\ (backslash).\n"
     ]
    }
   ],
   "source": [
    "txt = \"This will insert one \\\\ (backslash).\"\n",
    "print(txt) "
   ]
  },
  {
   "cell_type": "markdown",
   "id": "901555d3",
   "metadata": {},
   "source": [
    "# 4. The string &quot;Howl&#39;s Moving Castle&quot; is a correct value. Why isn&#39;t the single quote character in the word Howl&#39;s not escaped a problem?"
   ]
  },
  {
   "cell_type": "code",
   "execution_count": 7,
   "id": "2cb21253",
   "metadata": {},
   "outputs": [
    {
     "name": "stdout",
     "output_type": "stream",
     "text": [
      "Howl's Moving Castle\n"
     ]
    }
   ],
   "source": [
    "print(\"Howl's Moving Castle\") # we wrote the entire thing inbetween a double quotes"
   ]
  },
  {
   "cell_type": "markdown",
   "id": "3ef981f3",
   "metadata": {},
   "source": [
    "# 5. How do you write a string of newlines if you don&#39;t want to use the n character?"
   ]
  },
  {
   "cell_type": "code",
   "execution_count": 10,
   "id": "e341ef2d",
   "metadata": {},
   "outputs": [
    {
     "name": "stdout",
     "output_type": "stream",
     "text": [
      "Good\n",
      "Morning\n"
     ]
    }
   ],
   "source": [
    "print(\"Good\", end = '\\n')\n",
    "print(\"Morning\")"
   ]
  },
  {
   "cell_type": "markdown",
   "id": "f74d6df1",
   "metadata": {},
   "source": [
    "# 6. What are the values of the given expressions?\n",
    "#### &#39;Hello, world!&#39;[1]\n",
    "#### &#39;Hello, world!&#39;[0:5]\n",
    "#### &#39;Hello, world!&#39;[:5]\n",
    "#### &#39;Hello, world!&#39;[3:]"
   ]
  },
  {
   "cell_type": "code",
   "execution_count": 14,
   "id": "4c766393",
   "metadata": {},
   "outputs": [],
   "source": [
    "a = \"Hello, world!\""
   ]
  },
  {
   "cell_type": "code",
   "execution_count": 15,
   "id": "4bcb4cc2",
   "metadata": {},
   "outputs": [
    {
     "data": {
      "text/plain": [
       "'e'"
      ]
     },
     "execution_count": 15,
     "metadata": {},
     "output_type": "execute_result"
    }
   ],
   "source": [
    "a[1]"
   ]
  },
  {
   "cell_type": "code",
   "execution_count": 16,
   "id": "2f03b212",
   "metadata": {},
   "outputs": [
    {
     "data": {
      "text/plain": [
       "'Hello'"
      ]
     },
     "execution_count": 16,
     "metadata": {},
     "output_type": "execute_result"
    }
   ],
   "source": [
    "a[0:5]"
   ]
  },
  {
   "cell_type": "code",
   "execution_count": 17,
   "id": "12f138fc",
   "metadata": {},
   "outputs": [
    {
     "data": {
      "text/plain": [
       "'Hello'"
      ]
     },
     "execution_count": 17,
     "metadata": {},
     "output_type": "execute_result"
    }
   ],
   "source": [
    "a[:5]"
   ]
  },
  {
   "cell_type": "code",
   "execution_count": 18,
   "id": "e3d2559a",
   "metadata": {},
   "outputs": [
    {
     "data": {
      "text/plain": [
       "'lo, world!'"
      ]
     },
     "execution_count": 18,
     "metadata": {},
     "output_type": "execute_result"
    }
   ],
   "source": [
    "a[3:]"
   ]
  },
  {
   "cell_type": "markdown",
   "id": "4b50ee6e",
   "metadata": {},
   "source": [
    "# 7. What are the values of the following expressions?\n",
    "#### &#39;Hello&#39;.upper()\n",
    "#### &#39;Hello&#39;.upper().isupper()\n",
    "#### &#39;Hello&#39;.upper().lower()"
   ]
  },
  {
   "cell_type": "code",
   "execution_count": 19,
   "id": "13757d00",
   "metadata": {},
   "outputs": [],
   "source": [
    "b = \"Hello\""
   ]
  },
  {
   "cell_type": "code",
   "execution_count": 20,
   "id": "d9d2f46a",
   "metadata": {},
   "outputs": [
    {
     "data": {
      "text/plain": [
       "'HELLO'"
      ]
     },
     "execution_count": 20,
     "metadata": {},
     "output_type": "execute_result"
    }
   ],
   "source": [
    "b.upper()"
   ]
  },
  {
   "cell_type": "code",
   "execution_count": 27,
   "id": "01001618",
   "metadata": {
    "scrolled": true
   },
   "outputs": [
    {
     "data": {
      "text/plain": [
       "True"
      ]
     },
     "execution_count": 27,
     "metadata": {},
     "output_type": "execute_result"
    }
   ],
   "source": [
    "b.upper().isupper()"
   ]
  },
  {
   "cell_type": "code",
   "execution_count": 24,
   "id": "84e0ca6d",
   "metadata": {},
   "outputs": [
    {
     "data": {
      "text/plain": [
       "'hello'"
      ]
     },
     "execution_count": 24,
     "metadata": {},
     "output_type": "execute_result"
    }
   ],
   "source": [
    "b.lower()"
   ]
  },
  {
   "cell_type": "markdown",
   "id": "56940f90",
   "metadata": {},
   "source": [
    "# 8. What are the values of the following expressions?\n",
    "#### &#39;Remember, remember, the fifth of July.&#39;.split()\n",
    "#### &#39;-&#39;.join(&#39;There can only one.&#39;.split())"
   ]
  },
  {
   "cell_type": "code",
   "execution_count": 28,
   "id": "974fc13f",
   "metadata": {},
   "outputs": [],
   "source": [
    "x = \"Remember, remember, the fifth of July.\""
   ]
  },
  {
   "cell_type": "code",
   "execution_count": 29,
   "id": "e9d110d5",
   "metadata": {},
   "outputs": [
    {
     "data": {
      "text/plain": [
       "['Remember,', 'remember,', 'the', 'fifth', 'of', 'July.']"
      ]
     },
     "execution_count": 29,
     "metadata": {},
     "output_type": "execute_result"
    }
   ],
   "source": [
    "x.split()"
   ]
  },
  {
   "cell_type": "code",
   "execution_count": 32,
   "id": "28d1afcc",
   "metadata": {},
   "outputs": [
    {
     "data": {
      "text/plain": [
       "'There-can-only-one.'"
      ]
     },
     "execution_count": 32,
     "metadata": {},
     "output_type": "execute_result"
    }
   ],
   "source": [
    "'-'.join(\"There can only one.\".split())"
   ]
  },
  {
   "cell_type": "markdown",
   "id": "4085b50b",
   "metadata": {},
   "source": [
    "# 9. What are the methods for right-justifying, left-justifying, and centering a string?"
   ]
  },
  {
   "cell_type": "code",
   "execution_count": null,
   "id": "b793e670",
   "metadata": {},
   "outputs": [],
   "source": [
    "\"\"\"\n",
    "# rjust()\n",
    "\n",
    "# ljust()\n",
    "\n",
    "# center()\n",
    "\n",
    "\"\"\""
   ]
  },
  {
   "cell_type": "markdown",
   "id": "4d06a898",
   "metadata": {},
   "source": [
    "# 10. What is the best way to remove whitespace characters from the start or end?"
   ]
  },
  {
   "cell_type": "code",
   "execution_count": 34,
   "id": "b415c0eb",
   "metadata": {},
   "outputs": [],
   "source": [
    "a = \" h e l l o \""
   ]
  },
  {
   "cell_type": "code",
   "execution_count": 35,
   "id": "c4ede470",
   "metadata": {},
   "outputs": [
    {
     "data": {
      "text/plain": [
       "'hello'"
      ]
     },
     "execution_count": 35,
     "metadata": {},
     "output_type": "execute_result"
    }
   ],
   "source": [
    "a.replace(' ', '')"
   ]
  },
  {
   "cell_type": "code",
   "execution_count": null,
   "id": "2156057d",
   "metadata": {},
   "outputs": [],
   "source": []
  }
 ],
 "metadata": {
  "kernelspec": {
   "display_name": "Python 3 (ipykernel)",
   "language": "python",
   "name": "python3"
  },
  "language_info": {
   "codemirror_mode": {
    "name": "ipython",
    "version": 3
   },
   "file_extension": ".py",
   "mimetype": "text/x-python",
   "name": "python",
   "nbconvert_exporter": "python",
   "pygments_lexer": "ipython3",
   "version": "3.9.7"
  }
 },
 "nbformat": 4,
 "nbformat_minor": 5
}
