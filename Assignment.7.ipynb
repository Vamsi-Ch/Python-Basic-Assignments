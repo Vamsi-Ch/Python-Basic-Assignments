{
 "cells": [
  {
   "cell_type": "markdown",
   "id": "5eb51909",
   "metadata": {},
   "source": [
    "# 1. What is the name of the feature responsible for generating Regex objects?"
   ]
  },
  {
   "cell_type": "code",
   "execution_count": null,
   "id": "b5a4936d",
   "metadata": {},
   "outputs": [],
   "source": [
    "# The re.compile() function returns Regex objects."
   ]
  },
  {
   "cell_type": "markdown",
   "id": "44ad3467",
   "metadata": {},
   "source": [
    "# 2. Why do raw strings often appear in Regex objects?"
   ]
  },
  {
   "cell_type": "code",
   "execution_count": null,
   "id": "72e33025",
   "metadata": {},
   "outputs": [],
   "source": [
    "# Raw strings are used so that backslashes do not have to be escaped."
   ]
  },
  {
   "cell_type": "markdown",
   "id": "90206b3b",
   "metadata": {},
   "source": [
    "# 3. What is the return value of the search() method?"
   ]
  },
  {
   "cell_type": "code",
   "execution_count": null,
   "id": "5b5b368d",
   "metadata": {},
   "outputs": [],
   "source": [
    "# if it finds the pattern then it returns matchable object will be returned otherwise null (none) is returned."
   ]
  },
  {
   "cell_type": "markdown",
   "id": "c314b836",
   "metadata": {},
   "source": [
    "# 4. From a Match item, how do you get the actual strings that match the pattern?"
   ]
  },
  {
   "cell_type": "code",
   "execution_count": null,
   "id": "80821dcd",
   "metadata": {},
   "outputs": [],
   "source": [
    "# The group() method returns strings of the matched text."
   ]
  },
  {
   "cell_type": "markdown",
   "id": "712f2702",
   "metadata": {},
   "source": [
    "# 5. In the regex which created from the r&#39;(\\d\\d\\d)-(\\d\\d\\d-\\d\\d\\d\\d)&#39;, what does group zero cover? Group 1? Group 2?"
   ]
  },
  {
   "cell_type": "code",
   "execution_count": null,
   "id": "f671b29f",
   "metadata": {},
   "outputs": [],
   "source": [
    "# Group 0 is the entire match.\n",
    "# Group 1 covers the first set of parentheses. \n",
    "# Group 2 covers the second set of parentheses."
   ]
  },
  {
   "cell_type": "markdown",
   "id": "376c5b84",
   "metadata": {},
   "source": [
    "# 6. In standard expression syntax, parentheses and intervals have distinct meanings. How can you tell a regex that you want it to fit real parentheses and periods?"
   ]
  },
  {
   "cell_type": "code",
   "execution_count": null,
   "id": "38016758",
   "metadata": {},
   "outputs": [],
   "source": [
    "# Periods and parentheses can be escaped with a backslash: \\., \\(, and \\)."
   ]
  },
  {
   "cell_type": "markdown",
   "id": "f4a7f7e2",
   "metadata": {},
   "source": [
    "# 7. The findall() method returns a string list or a list of string tuples. What causes it to return one of the two options?"
   ]
  },
  {
   "cell_type": "code",
   "execution_count": null,
   "id": "425d7bc0",
   "metadata": {},
   "outputs": [],
   "source": [
    "# If the regex has no groups, a list of strings is returned. \n",
    "# If the regex has groups, a list of tuples of strings is returned."
   ]
  },
  {
   "cell_type": "markdown",
   "id": "08f2aa54",
   "metadata": {},
   "source": [
    "# 8. In standard expressions, what does the | character mean?"
   ]
  },
  {
   "cell_type": "code",
   "execution_count": null,
   "id": "1dad2e5d",
   "metadata": {},
   "outputs": [],
   "source": [
    "# in standard expression \" | \" means Alternation"
   ]
  },
  {
   "cell_type": "markdown",
   "id": "333bd33c",
   "metadata": {},
   "source": [
    "# 9. In regular expressions, what does the character stand for?"
   ]
  },
  {
   "cell_type": "code",
   "execution_count": null,
   "id": "4ba96760",
   "metadata": {},
   "outputs": [],
   "source": [
    "# it stands for match zero or one of the preceding group"
   ]
  },
  {
   "cell_type": "markdown",
   "id": "0812c147",
   "metadata": {},
   "source": [
    "# 10.In regular expressions, what is the difference between the + and * characters?"
   ]
  },
  {
   "cell_type": "code",
   "execution_count": null,
   "id": "913cb0a5",
   "metadata": {},
   "outputs": [],
   "source": [
    "\"\"\"\n",
    "'+' matches one or more\n",
    "'*' matches zero or more\n",
    "\n",
    "\"\"\""
   ]
  },
  {
   "cell_type": "markdown",
   "id": "9cf874f5",
   "metadata": {},
   "source": [
    "# 11. What is the difference between {4} and {4,5} in regular expression?"
   ]
  },
  {
   "cell_type": "code",
   "execution_count": null,
   "id": "566aeb30",
   "metadata": {},
   "outputs": [],
   "source": [
    "\"\"\"\n",
    "# {4} matches exactly four instances of the preceding group.\n",
    "# {4,5} matches between four and five instances of the preceding group.\n",
    "\n",
    "\"\"\""
   ]
  },
  {
   "cell_type": "markdown",
   "id": "7fdd86fd",
   "metadata": {},
   "source": [
    "# 12. What do you mean by the \\d, \\w, and \\s shorthand character classes signify in regular expressions?"
   ]
  },
  {
   "cell_type": "code",
   "execution_count": null,
   "id": "ea93ba52",
   "metadata": {},
   "outputs": [],
   "source": [
    "\"\"\"\n",
    "# The \\d, shorthand character classes match a single digit.\n",
    "# The \\w, shorthand character classes match a single word. \n",
    "# The \\s, shorthand character classes match a space character.\n",
    "\n",
    "\n",
    "\"\"\""
   ]
  },
  {
   "cell_type": "markdown",
   "id": "ab116f10",
   "metadata": {},
   "source": [
    "# 13. What do means by \\D, \\W, and \\S shorthand character classes signify in regular expressions?"
   ]
  },
  {
   "cell_type": "code",
   "execution_count": null,
   "id": "175533cb",
   "metadata": {},
   "outputs": [],
   "source": [
    "\"\"\"\n",
    "# \\D -> matches non-digit.\n",
    "# \\W -> matches non-words.\n",
    "# \\S -> matches non-whitespaces.\n",
    "\n",
    "\"\"\""
   ]
  },
  {
   "cell_type": "markdown",
   "id": "ddba919b",
   "metadata": {},
   "source": [
    "# 14. What is the difference between .*? and .*?"
   ]
  },
  {
   "cell_type": "code",
   "execution_count": 13,
   "id": "2d46acbe",
   "metadata": {},
   "outputs": [],
   "source": [
    "# The . performs a greedy match, and the .? performs a nongreedy match."
   ]
  },
  {
   "cell_type": "markdown",
   "id": "a0fd8131",
   "metadata": {},
   "source": [
    "# 15. What is the syntax for matching both numbers and lowercase letters with a character class?"
   ]
  },
  {
   "cell_type": "code",
   "execution_count": 14,
   "id": "4efcfe53",
   "metadata": {},
   "outputs": [],
   "source": [
    "# Either [0-9a-z] or [a-z0-9]"
   ]
  },
  {
   "cell_type": "markdown",
   "id": "1e047211",
   "metadata": {},
   "source": [
    "# 16. What is the procedure for making a normal expression in regax case insensitive?"
   ]
  },
  {
   "cell_type": "code",
   "execution_count": 15,
   "id": "e3b53b66",
   "metadata": {},
   "outputs": [],
   "source": [
    "# Passing re.I or re.IGNORECASE."
   ]
  },
  {
   "cell_type": "markdown",
   "id": "f9cff10c",
   "metadata": {},
   "source": [
    "# 17. What does the . character normally match? What does it match if re.DOTALL is passed as 2nd argument in re.compile()?"
   ]
  },
  {
   "cell_type": "code",
   "execution_count": null,
   "id": "6c893bad",
   "metadata": {},
   "outputs": [],
   "source": [
    "\"\"\"\n",
    "# The . (dot), character normally matches any character except the newline character.\n",
    "# The re.DOTALL match any character include new line also.\n",
    "\n",
    "\"\"\""
   ]
  },
  {
   "cell_type": "markdown",
   "id": "2fa38f23",
   "metadata": {},
   "source": [
    "# 18. If numReg = re.compile(r&#39;\\d+&#39;), what will numRegex.sub(&#39;X&#39;, &#39;11 drummers, 10 pipers, five rings, 4 hen&#39;) return?"
   ]
  },
  {
   "cell_type": "code",
   "execution_count": 16,
   "id": "233f9ccf",
   "metadata": {},
   "outputs": [
    {
     "data": {
      "text/plain": [
       "'X drummers, X pipers, five rings, X hen'"
      ]
     },
     "execution_count": 16,
     "metadata": {},
     "output_type": "execute_result"
    }
   ],
   "source": [
    "# Ans -->  'X drummers, X pipers, five rings, X hens'\n",
    "\n",
    "import re\n",
    "\n",
    "numRegex = re.compile(r'\\d+')\n",
    "numRegex.sub('X', '11 drummers, 10 pipers, five rings, 4 hen')\n",
    "                      "
   ]
  },
  {
   "cell_type": "markdown",
   "id": "feb79b3f",
   "metadata": {},
   "source": [
    "# 19. What does passing re.VERBOSE as the 2nd argument to re.compile() allow to do?"
   ]
  },
  {
   "cell_type": "code",
   "execution_count": 17,
   "id": "7b317e3a",
   "metadata": {},
   "outputs": [],
   "source": [
    "# it allows you to add whitespace and comments to the string passed to re.compile()."
   ]
  },
  {
   "cell_type": "markdown",
   "id": "4e34edf2",
   "metadata": {},
   "source": [
    "# 20. How would you write a regex that match a number with comma for every three digits? \n",
    "### It must match the given following:\n",
    "\n",
    "##### \"42\"\n",
    "##### '1,234'\n",
    "##### '6,368,745'\n",
    "\n",
    "### but not the following:\n",
    "\n",
    "##### '12,34,567' (which has only two digits between the commas)\n",
    "#### '1234' (which lacks commas)"
   ]
  },
  {
   "cell_type": "code",
   "execution_count": 18,
   "id": "0109168c",
   "metadata": {},
   "outputs": [],
   "source": [
    "# re.compile(r'^\\d{1,3}(,\\d{3})*$')"
   ]
  },
  {
   "cell_type": "markdown",
   "id": "9da5cb9f",
   "metadata": {},
   "source": [
    "# 21. How would you write a regex that matches the full name of someone whose last name is Watanabe? You can assume that the first name that comes before it will always be one word that begins with a capital letter. \n",
    "\n",
    "### The regex must match the following:\n",
    "\n",
    "'Haruto Watanabe'\n",
    "\n",
    "\n",
    "\n",
    "\n"
   ]
  },
  {
   "cell_type": "markdown",
   "id": "f077b5e0",
   "metadata": {},
   "source": [
    "'Alice Watanabe'"
   ]
  },
  {
   "cell_type": "markdown",
   "id": "2fdc71f2",
   "metadata": {},
   "source": [
    "'RoboCop Watanabe'"
   ]
  },
  {
   "cell_type": "markdown",
   "id": "c0f80271",
   "metadata": {},
   "source": [
    "### but not the following:\n",
    "'haruto Watanabe' (where the first name is not capitalized)"
   ]
  },
  {
   "cell_type": "markdown",
   "id": "19be639a",
   "metadata": {},
   "source": [
    "'Mr. Watanabe' (where the preceding word has a nonletter character)"
   ]
  },
  {
   "cell_type": "markdown",
   "id": "26f2ea94",
   "metadata": {},
   "source": [
    "'Watanabe' (which has no first name)"
   ]
  },
  {
   "cell_type": "markdown",
   "id": "c4aa851d",
   "metadata": {},
   "source": [
    "'Haruto watanabe' (where Watanabe is not capitalized)"
   ]
  },
  {
   "cell_type": "code",
   "execution_count": 20,
   "id": "1f20c844",
   "metadata": {},
   "outputs": [],
   "source": [
    "# re.compile(r'[A-Z][a-z]*\\sNakamoto')"
   ]
  },
  {
   "cell_type": "markdown",
   "id": "0a65a6f8",
   "metadata": {},
   "source": [
    "# 22. How would you write a regex that matches a sentence where the first word is either Alice, Bob, or Carol; the second word is either eats, pets, or throws; the third word is apples, cats, or baseballs; and the sentence ends with a period? This regex should be case-insensitive. \n",
    "\n",
    "### It must match the following:\n",
    "'Alice eats apples.'"
   ]
  },
  {
   "cell_type": "markdown",
   "id": "f68daea8",
   "metadata": {},
   "source": [
    "'Bob pets cats.'"
   ]
  },
  {
   "cell_type": "markdown",
   "id": "74e49208",
   "metadata": {},
   "source": [
    "'Carol throws baseballs.'"
   ]
  },
  {
   "cell_type": "markdown",
   "id": "bce21988",
   "metadata": {},
   "source": [
    "'Alice throws Apples.'"
   ]
  },
  {
   "cell_type": "markdown",
   "id": "bbd90fe3",
   "metadata": {},
   "source": [
    "'BOB EATS CATS.'"
   ]
  },
  {
   "cell_type": "markdown",
   "id": "29cc7cfb",
   "metadata": {},
   "source": [
    "### but not the following: \n",
    "'RoboCop eats apples.'"
   ]
  },
  {
   "cell_type": "markdown",
   "id": "e9508cea",
   "metadata": {},
   "source": [
    "'ALICE THROWS FOOTBALLS.'"
   ]
  },
  {
   "cell_type": "markdown",
   "id": "f854ca19",
   "metadata": {},
   "source": [
    "'Carol eats 7 cats.'"
   ]
  },
  {
   "cell_type": "code",
   "execution_count": 21,
   "id": "b28e7ea4",
   "metadata": {},
   "outputs": [],
   "source": [
    "# re.compile(r'(Alice|Bob|Carol)\\s(eats|pets|throws)\\s(apples|cats|baseballs)\\.', re.IGNORECASE)"
   ]
  },
  {
   "cell_type": "code",
   "execution_count": null,
   "id": "745339c7",
   "metadata": {},
   "outputs": [],
   "source": []
  }
 ],
 "metadata": {
  "kernelspec": {
   "display_name": "Python 3 (ipykernel)",
   "language": "python",
   "name": "python3"
  },
  "language_info": {
   "codemirror_mode": {
    "name": "ipython",
    "version": 3
   },
   "file_extension": ".py",
   "mimetype": "text/x-python",
   "name": "python",
   "nbconvert_exporter": "python",
   "pygments_lexer": "ipython3",
   "version": "3.9.7"
  }
 },
 "nbformat": 4,
 "nbformat_minor": 5
}
