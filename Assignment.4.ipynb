{
 "cells": [
  {
   "cell_type": "markdown",
   "id": "03a27631",
   "metadata": {},
   "source": [
    "# 1. What exactly is []?"
   ]
  },
  {
   "cell_type": "code",
   "execution_count": 1,
   "id": "8f14693e",
   "metadata": {},
   "outputs": [],
   "source": [
    "# it is an empty list."
   ]
  },
  {
   "cell_type": "markdown",
   "id": "73262282",
   "metadata": {},
   "source": [
    "# 2. In a list of values stored in a variable called spam, how would you assign the value &#39;hello&#39; as the third value? (Assume [2, 4, 6, 8, 10] are in spam.)"
   ]
  },
  {
   "cell_type": "code",
   "execution_count": 2,
   "id": "81a3a7ce",
   "metadata": {},
   "outputs": [],
   "source": [
    "spam = [2,4,6,8,10]\n",
    "spam[2] = 'hello'"
   ]
  },
  {
   "cell_type": "code",
   "execution_count": 3,
   "id": "81d575ad",
   "metadata": {},
   "outputs": [
    {
     "data": {
      "text/plain": [
       "[2, 4, 'hello', 8, 10]"
      ]
     },
     "execution_count": 3,
     "metadata": {},
     "output_type": "execute_result"
    }
   ],
   "source": [
    "spam"
   ]
  },
  {
   "cell_type": "markdown",
   "id": "ce01e4a9",
   "metadata": {},
   "source": [
    "### Let's pretend the spam includes the list ['a','b','c','d'] for the next three queries"
   ]
  },
  {
   "cell_type": "markdown",
   "id": "2a6756f2",
   "metadata": {},
   "source": [
    "#### (3).What is the value of spam[int(int(&#39;3&#39; * 2) / 11)]?\n",
    "#### (4).What is the value of spam[-1]?\n",
    "#### (5).What is the value of spam[:2]?"
   ]
  },
  {
   "cell_type": "code",
   "execution_count": 4,
   "id": "b97789a3",
   "metadata": {},
   "outputs": [],
   "source": [
    "spam = ['a','b','c','d']"
   ]
  },
  {
   "cell_type": "code",
   "execution_count": 5,
   "id": "7cb04d5e",
   "metadata": {},
   "outputs": [
    {
     "data": {
      "text/plain": [
       "'d'"
      ]
     },
     "execution_count": 5,
     "metadata": {},
     "output_type": "execute_result"
    }
   ],
   "source": [
    "spam[int(int('3'*2)/11)]"
   ]
  },
  {
   "cell_type": "code",
   "execution_count": 6,
   "id": "7267de4a",
   "metadata": {},
   "outputs": [
    {
     "data": {
      "text/plain": [
       "'d'"
      ]
     },
     "execution_count": 6,
     "metadata": {},
     "output_type": "execute_result"
    }
   ],
   "source": [
    "spam[-1]"
   ]
  },
  {
   "cell_type": "code",
   "execution_count": 7,
   "id": "1224a25d",
   "metadata": {},
   "outputs": [
    {
     "data": {
      "text/plain": [
       "['a', 'b']"
      ]
     },
     "execution_count": 7,
     "metadata": {},
     "output_type": "execute_result"
    }
   ],
   "source": [
    "spam[:2] # by default it is taking values from starting point"
   ]
  },
  {
   "cell_type": "markdown",
   "id": "86bce122",
   "metadata": {},
   "source": [
    "# Let&#39;s pretend bacon has the list [3.14, &#39;cat',&#39;11, &#39;cat',&#39; True] for the next three questions."
   ]
  },
  {
   "cell_type": "markdown",
   "id": "0be0d5a9",
   "metadata": {},
   "source": [
    "#### (6).What is the value of bacon.index(&#39;cat&#39;)?\n",
    "#### (7).How does bacon.append(99) change the look of the list value in bacon?\n",
    "#### (8).How does bacon.remove(&#39;cat&#39;) change the look of the list in bacon?"
   ]
  },
  {
   "cell_type": "code",
   "execution_count": 14,
   "id": "8c691ac7",
   "metadata": {},
   "outputs": [],
   "source": [
    "bacon = [3.14, \"cat\", 11, \"cat\", True]"
   ]
  },
  {
   "cell_type": "code",
   "execution_count": 15,
   "id": "65a741f7",
   "metadata": {},
   "outputs": [
    {
     "data": {
      "text/plain": [
       "1"
      ]
     },
     "execution_count": 15,
     "metadata": {},
     "output_type": "execute_result"
    }
   ],
   "source": [
    "# index() is an inbuilt function in python.\n",
    "# it searches for a given element from the start of the list and returns the index of the first occurrence.\n",
    "bacon.index('cat')"
   ]
  },
  {
   "cell_type": "code",
   "execution_count": 17,
   "id": "c4ac3a77",
   "metadata": {},
   "outputs": [
    {
     "data": {
      "text/plain": [
       "[3.14, 'cat', 11, 'cat', True, 99]"
      ]
     },
     "execution_count": 17,
     "metadata": {},
     "output_type": "execute_result"
    }
   ],
   "source": [
    "bacon.append(99) # append will add the values at the end.\n",
    "bacon"
   ]
  },
  {
   "cell_type": "code",
   "execution_count": 18,
   "id": "1b95bdfd",
   "metadata": {},
   "outputs": [],
   "source": [
    "# The remove() method removes the first occurrence of the element with the specified value.\n",
    "bacon.remove('cat')"
   ]
  },
  {
   "cell_type": "code",
   "execution_count": 20,
   "id": "9c0a2567",
   "metadata": {},
   "outputs": [
    {
     "data": {
      "text/plain": [
       "[3.14, 11, 'cat', True, 99]"
      ]
     },
     "execution_count": 20,
     "metadata": {},
     "output_type": "execute_result"
    }
   ],
   "source": [
    "bacon # first occurrence of specified value called 'cat' has been removed."
   ]
  },
  {
   "cell_type": "markdown",
   "id": "b19fc40e",
   "metadata": {},
   "source": [
    "# 9. What are the list concatenation and list replication operators?"
   ]
  },
  {
   "cell_type": "code",
   "execution_count": 22,
   "id": "893300c3",
   "metadata": {},
   "outputs": [
    {
     "data": {
      "text/plain": [
       "[1, 2, 3, 4, 5, 6, 7, 8]"
      ]
     },
     "execution_count": 22,
     "metadata": {},
     "output_type": "execute_result"
    }
   ],
   "source": [
    "# list concatenation\n",
    "lst1 = [1,2,3,4]\n",
    "lst2 = [5,6,7,8]\n",
    "\n",
    "lst1 + lst2"
   ]
  },
  {
   "cell_type": "code",
   "execution_count": 23,
   "id": "cb3e1777",
   "metadata": {},
   "outputs": [],
   "source": [
    "# list replication\n",
    "a = [1,2,3,4,5]\n",
    "b = a*2  # two times replication"
   ]
  },
  {
   "cell_type": "code",
   "execution_count": 24,
   "id": "30ee386d",
   "metadata": {},
   "outputs": [
    {
     "data": {
      "text/plain": [
       "[1, 2, 3, 4, 5, 1, 2, 3, 4, 5]"
      ]
     },
     "execution_count": 24,
     "metadata": {},
     "output_type": "execute_result"
    }
   ],
   "source": [
    "b"
   ]
  },
  {
   "cell_type": "code",
   "execution_count": 25,
   "id": "b2712334",
   "metadata": {},
   "outputs": [
    {
     "data": {
      "text/plain": [
       "[1, 2, 3, 4, 5, 1, 2, 3, 4, 5, 1, 2, 3, 4, 5]"
      ]
     },
     "execution_count": 25,
     "metadata": {},
     "output_type": "execute_result"
    }
   ],
   "source": [
    "c = a*3 # three times replication\n",
    "c"
   ]
  },
  {
   "cell_type": "markdown",
   "id": "12ef5121",
   "metadata": {},
   "source": [
    "# 10. What is difference between the list methods append() and insert()?"
   ]
  },
  {
   "cell_type": "code",
   "execution_count": 27,
   "id": "58451545",
   "metadata": {},
   "outputs": [],
   "source": [
    "# append() is inbuilt function in python\n",
    "# append() will add the elements at the end, and append() will takes only one element at a time\n",
    "\n",
    "l = [\"hello\",\"geeks\",\"FSDS\"]\n",
    "l.append(\"hello world\")\n"
   ]
  },
  {
   "cell_type": "code",
   "execution_count": 28,
   "id": "38b4a75b",
   "metadata": {},
   "outputs": [
    {
     "data": {
      "text/plain": [
       "['hello', 'geeks', 'FSDS', 'hello world']"
      ]
     },
     "execution_count": 28,
     "metadata": {},
     "output_type": "execute_result"
    }
   ],
   "source": [
    "l"
   ]
  },
  {
   "cell_type": "code",
   "execution_count": 29,
   "id": "0d98fca2",
   "metadata": {},
   "outputs": [],
   "source": [
    "# insert() also a inbuilt function in python.\n",
    "# it will insert the elements, at the particular index/position\n",
    "\n",
    "l.insert(2, \"my self vamsi\")"
   ]
  },
  {
   "cell_type": "code",
   "execution_count": 30,
   "id": "8c1df329",
   "metadata": {},
   "outputs": [
    {
     "data": {
      "text/plain": [
       "['hello', 'geeks', 'my self vamsi', 'FSDS', 'hello world']"
      ]
     },
     "execution_count": 30,
     "metadata": {},
     "output_type": "execute_result"
    }
   ],
   "source": [
    "l"
   ]
  },
  {
   "cell_type": "markdown",
   "id": "09766d4d",
   "metadata": {},
   "source": [
    "# 11. What are the two methods for removing items from a list?"
   ]
  },
  {
   "cell_type": "code",
   "execution_count": 31,
   "id": "42ab47cc",
   "metadata": {},
   "outputs": [
    {
     "name": "stdout",
     "output_type": "stream",
     "text": [
      "[1, 2, 3, 4, 5]\n",
      "[1, 2, 4, 5]\n"
     ]
    }
   ],
   "source": [
    "# method 1\n",
    "lst = [1,2,3,4,5]\n",
    "print(lst)\n",
    "\n",
    "lst.remove(3)\n",
    "print(lst)"
   ]
  },
  {
   "cell_type": "code",
   "execution_count": 34,
   "id": "4a72fe19",
   "metadata": {},
   "outputs": [
    {
     "name": "stdout",
     "output_type": "stream",
     "text": [
      "Original list :  [7, 8, 9, 10, 15]\n",
      "after removing :  [7, 8, 10, 15]\n",
      "removed value is :  9\n"
     ]
    }
   ],
   "source": [
    "# method 2\n",
    "lst0 = [7,8,9,10,15]\n",
    "print(\"Original list : \", lst0)\n",
    "\n",
    "a = lst0.pop(2)\n",
    "\n",
    "print(\"after removing : \", lst0)\n",
    "print(\"removed value is : \", a)"
   ]
  },
  {
   "cell_type": "markdown",
   "id": "4966d963",
   "metadata": {},
   "source": [
    "# 12. Describe how list values and string values are identical."
   ]
  },
  {
   "cell_type": "code",
   "execution_count": 35,
   "id": "3c992502",
   "metadata": {},
   "outputs": [],
   "source": [
    "# both list and string are ordered collection of elements except in list it can contain different data types."
   ]
  },
  {
   "cell_type": "markdown",
   "id": "25a96f0c",
   "metadata": {},
   "source": [
    "# 13. What&#39;s the difference between tuples and lists?"
   ]
  },
  {
   "cell_type": "code",
   "execution_count": 36,
   "id": "691e4a97",
   "metadata": {},
   "outputs": [],
   "source": [
    "# tuples are immutable\n",
    "# The contents of a tuple cannot change once they have been created in Python due to the immutability of tuples."
   ]
  },
  {
   "cell_type": "code",
   "execution_count": 37,
   "id": "7df54643",
   "metadata": {},
   "outputs": [],
   "source": [
    "# Lists is an ordered collection of items.\n",
    "# Lists are mutable, it means the contents of a list can be changed anytime as we wish."
   ]
  },
  {
   "cell_type": "markdown",
   "id": "2d2f00f3",
   "metadata": {},
   "source": [
    "# 14. How do you type a tuple value that only contains the integer 42?"
   ]
  },
  {
   "cell_type": "code",
   "execution_count": 3,
   "id": "b054435c",
   "metadata": {},
   "outputs": [],
   "source": [
    "x = (42,)"
   ]
  },
  {
   "cell_type": "code",
   "execution_count": 4,
   "id": "baf7d215",
   "metadata": {},
   "outputs": [
    {
     "data": {
      "text/plain": [
       "tuple"
      ]
     },
     "execution_count": 4,
     "metadata": {},
     "output_type": "execute_result"
    }
   ],
   "source": [
    "type(x)"
   ]
  },
  {
   "cell_type": "markdown",
   "id": "a2602b5a",
   "metadata": {},
   "source": [
    "# 15. How do you get a list value&#39;s tuple form? How do you get a tuple value&#39;s list form?"
   ]
  },
  {
   "cell_type": "code",
   "execution_count": 7,
   "id": "9ec39245",
   "metadata": {},
   "outputs": [
    {
     "data": {
      "text/plain": [
       "(10, 20, 30, 40, 50)"
      ]
     },
     "execution_count": 7,
     "metadata": {},
     "output_type": "execute_result"
    }
   ],
   "source": [
    "tuple([10,20,30,40,50])"
   ]
  },
  {
   "cell_type": "code",
   "execution_count": 8,
   "id": "5dcb8185",
   "metadata": {},
   "outputs": [
    {
     "data": {
      "text/plain": [
       "[10, 20, 30, 40, 50]"
      ]
     },
     "execution_count": 8,
     "metadata": {},
     "output_type": "execute_result"
    }
   ],
   "source": [
    "list((10,20,30,40,50))"
   ]
  },
  {
   "cell_type": "markdown",
   "id": "276766a6",
   "metadata": {},
   "source": [
    "# 16. Variables that &quot;contain&quot; list values are not necessarily lists themselves. Instead, what do they contain?"
   ]
  },
  {
   "cell_type": "code",
   "execution_count": 10,
   "id": "2d7dab0c",
   "metadata": {},
   "outputs": [
    {
     "data": {
      "text/plain": [
       "list"
      ]
     },
     "execution_count": 10,
     "metadata": {},
     "output_type": "execute_result"
    }
   ],
   "source": [
    "x = [4,5,6,7]\n",
    "type(x)"
   ]
  },
  {
   "cell_type": "markdown",
   "id": "bfed448e",
   "metadata": {},
   "source": [
    "# 17. How do you distinguish between copy.copy() and copy.deepcopy()?"
   ]
  },
  {
   "cell_type": "code",
   "execution_count": null,
   "id": "2bbddfc8",
   "metadata": {},
   "outputs": [],
   "source": [
    "\"\"\"\n",
    "# deepcopy does not change original object if in future we change deepcopied object. \n",
    "# where as original object changes with copy.copy() \"\"\""
   ]
  },
  {
   "cell_type": "code",
   "execution_count": null,
   "id": "b63cdad0",
   "metadata": {},
   "outputs": [],
   "source": []
  }
 ],
 "metadata": {
  "kernelspec": {
   "display_name": "Python 3 (ipykernel)",
   "language": "python",
   "name": "python3"
  },
  "language_info": {
   "codemirror_mode": {
    "name": "ipython",
    "version": 3
   },
   "file_extension": ".py",
   "mimetype": "text/x-python",
   "name": "python",
   "nbconvert_exporter": "python",
   "pygments_lexer": "ipython3",
   "version": "3.9.7"
  }
 },
 "nbformat": 4,
 "nbformat_minor": 5
}
