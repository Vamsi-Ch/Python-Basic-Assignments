{
 "cells": [
  {
   "cell_type": "markdown",
   "id": "1409cbe8",
   "metadata": {},
   "source": [
    "# 1. Is the Python Standard Library included with PyInputPlus?"
   ]
  },
  {
   "cell_type": "code",
   "execution_count": null,
   "id": "294cc516",
   "metadata": {},
   "outputs": [],
   "source": [
    "# it is not a part of python standard library, we must install it separately using Pip"
   ]
  },
  {
   "cell_type": "markdown",
   "id": "3410970c",
   "metadata": {},
   "source": [
    "# 2. Why is PyInputPlus commonly imported with import pyinputplus as pypi?"
   ]
  },
  {
   "cell_type": "code",
   "execution_count": null,
   "id": "f7b26699",
   "metadata": {},
   "outputs": [],
   "source": [
    "# this piece of code help us save time from calling each time we want to use pyinputplus where pypi is allias"
   ]
  },
  {
   "cell_type": "markdown",
   "id": "512426d9",
   "metadata": {},
   "source": [
    "# 3. How do you distinguish between inputInt() and inputFloat()?"
   ]
  },
  {
   "cell_type": "code",
   "execution_count": null,
   "id": "0d909e2b",
   "metadata": {},
   "outputs": [],
   "source": [
    "# inputInt() is for integers i.e number without decimal\n",
    "# where as inputFloat() belongs to float class i.e with decimal."
   ]
  },
  {
   "cell_type": "markdown",
   "id": "7d271698",
   "metadata": {},
   "source": [
    "# 4. Using PyInputPlus, how do you ensure that the user enters a whole number between 0 and 99?"
   ]
  },
  {
   "cell_type": "code",
   "execution_count": 5,
   "id": "7d7bff14",
   "metadata": {
    "scrolled": true
   },
   "outputs": [],
   "source": [
    "# pyip.inputInt(min = 0, max =99)"
   ]
  },
  {
   "cell_type": "markdown",
   "id": "865fa1c0",
   "metadata": {},
   "source": [
    "# 5. What is transferred to the keyword arguments allowRegexes and blockRegexes?"
   ]
  },
  {
   "cell_type": "code",
   "execution_count": null,
   "id": "e639bb73",
   "metadata": {},
   "outputs": [],
   "source": [
    "\"\"\"\n",
    "we can use allowRegexes and blockRegexes keyword arguments to take list of regular expression strings to determine,\n",
    "\n",
    "what the pyinputplus function will reject or accept valid input.\n",
    "\n",
    "\"\"\""
   ]
  },
  {
   "cell_type": "markdown",
   "id": "4bdf684e",
   "metadata": {},
   "source": [
    "# 6. If a blank input is entered three times, what does inputStr(limit=3) do?"
   ]
  },
  {
   "cell_type": "code",
   "execution_count": null,
   "id": "e797d63e",
   "metadata": {},
   "outputs": [],
   "source": [
    "\"\"\"\n",
    "it will give this error: as below\n",
    "\n",
    "pyinputplus.RetryLimitException\n",
    "\n",
    "\"\"\""
   ]
  },
  {
   "cell_type": "markdown",
   "id": "1d94090a",
   "metadata": {},
   "source": [
    "# 7. If blank input is entered three times, what does inputStr(limit=3, default=&#39;hello&#39;) do?"
   ]
  },
  {
   "cell_type": "code",
   "execution_count": null,
   "id": "142dab17",
   "metadata": {},
   "outputs": [],
   "source": [
    "# instead of raising RetryLimitException, the inputNum() function simply returns the string 'hello'."
   ]
  }
 ],
 "metadata": {
  "kernelspec": {
   "display_name": "Python 3 (ipykernel)",
   "language": "python",
   "name": "python3"
  },
  "language_info": {
   "codemirror_mode": {
    "name": "ipython",
    "version": 3
   },
   "file_extension": ".py",
   "mimetype": "text/x-python",
   "name": "python",
   "nbconvert_exporter": "python",
   "pygments_lexer": "ipython3",
   "version": "3.9.7"
  }
 },
 "nbformat": 4,
 "nbformat_minor": 5
}
